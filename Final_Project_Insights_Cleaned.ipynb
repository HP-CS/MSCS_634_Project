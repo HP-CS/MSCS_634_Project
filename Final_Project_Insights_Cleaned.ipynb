{
 "cells": [
  {
   "cell_type": "markdown",
   "id": "8e261d2a",
   "metadata": {},
   "source": [
    "# Final Project Insights, Recommendations, and Presentation"
   ]
  },
  {
   "cell_type": "markdown",
   "id": "2b7b9792",
   "metadata": {},
   "source": [
    "\n",
    "This notebook consolidates Deliverables 1-3 into a single project workflow, summarizing key findings, insights, and recommendations based on advanced data mining techniques.\n"
   ]
  },
  {
   "cell_type": "markdown",
   "id": "c45b2db4",
   "metadata": {},
   "source": [
    "## 📊 Dataset Overview"
   ]
  },
  {
   "cell_type": "markdown",
   "id": "27427635",
   "metadata": {},
   "source": [
    "\n",
    "- **Dataset**: UCI Online Retail\n",
    "- **Records**: 541,909 rows, 8 attributes\n",
    "- **Source**: [UCI Machine Learning Repository](https://archive.ics.uci.edu/ml/datasets/Online+Retail)\n",
    "- **Reason for Selection**: \n",
    "  - Real-world transactional dataset suitable for regression, classification, clustering, and association rule mining.\n",
    "  - Provides rich customer behavior data for pattern discovery.\n"
   ]
  },
  {
   "cell_type": "markdown",
   "id": "a0f73f28",
   "metadata": {},
   "source": [
    "## 📦 Deliverable 1: Data Cleaning and EDA"
   ]
  },
  {
   "cell_type": "markdown",
   "id": "bbbb3405",
   "metadata": {},
   "source": [
    "# Deliverable 1: Data Cleaning and Exploratory Data Analysis (EDA)"
   ]
  },
  {
   "cell_type": "markdown",
   "id": "9b18d49c",
   "metadata": {},
   "source": [
    "## Dataset Description\n",
    "- **Columns**: InvoiceNo, StockCode, Description, Quantity, InvoiceDate, UnitPrice, CustomerID, Country\n",
    "- **Size**: 541,909 rows, 8 columns\n",
    "- **Reason for selection**:\n",
    "  - Real-world transactional dataset suitable for regression, classification, and clustering tasks\n",
    "  - Includes customer behavior insights, ideal for data mining"
   ]
  },
  {
   "cell_type": "code",
   "execution_count": null,
   "id": "582187e6",
   "metadata": {},
   "outputs": [],
   "source": [
    "# 3. Data Cleaning\n",
    "# 3.1 Check for missing values\n",
    "print(df.isnull().sum())\n",
    "\n",
    "# 3.2 Remove rows with missing CustomerID\n",
    "df = df.dropna(subset=['CustomerID'])\n",
    "\n",
    "# 3.3 Remove duplicates based on InvoiceNo and StockCode\n",
    "df = df.drop_duplicates(subset=['InvoiceNo', 'StockCode'])\n",
    "\n",
    "# 3.4 Remove outliers: Quantity <= 0 or UnitPrice <= 0\n",
    "df = df[(df['Quantity'] > 0) & (df['UnitPrice'] > 0)]\n",
    "df.info()\n"
   ]
  },
  {
   "cell_type": "code",
   "execution_count": null,
   "id": "9d9ba504",
   "metadata": {},
   "outputs": [],
   "source": [
    "# 4. Exploratory Data Analysis (EDA)\n",
    "# Plot Quantity distribution (log scale)\n",
    "plt.figure(figsize=(10, 5))\n",
    "sns.histplot(df['Quantity'], bins=50, log_scale=True)\n",
    "plt.title('Quantity Distribution (log scale)')\n",
    "plt.show()\n",
    "\n",
    "# Plot UnitPrice distribution (log scale)\n",
    "plt.figure(figsize=(10, 5))\n",
    "sns.histplot(df['UnitPrice'], bins=50, log_scale=True)\n",
    "plt.title('UnitPrice Distribution (log scale)')\n",
    "plt.show()\n",
    "\n",
    "# Boxplot for top 10 countries by quantity\n",
    "top_countries = df['Country'].value_counts().nlargest(10).index\n",
    "df_top = df[df['Country'].isin(top_countries)]\n",
    "plt.figure(figsize=(12, 6))\n",
    "sns.boxplot(x='Country', y='Quantity', data=df_top)\n",
    "plt.xticks(rotation=45)\n",
    "plt.title('Top 10 Countries by Quantity')\n",
    "plt.show()\n"
   ]
  },
  {
   "cell_type": "code",
   "execution_count": null,
   "id": "682bff40",
   "metadata": {},
   "outputs": [],
   "source": [
    "# 5. Correlation Analysis\n",
    "corr = df[['Quantity', 'UnitPrice']].corr()\n",
    "sns.heatmap(corr, annot=True)\n",
    "plt.title('Correlation between Quantity and UnitPrice')\n",
    "plt.show()\n"
   ]
  },
  {
   "cell_type": "code",
   "execution_count": null,
   "id": "cfae508d",
   "metadata": {},
   "outputs": [],
   "source": [
    "# 6. RFM Analysis Preparation\n",
    "snapshot_date = df['InvoiceDate'].max() + pd.Timedelta(days=1)\n",
    "rfm = df.groupby('CustomerID').agg({\n",
    "    'InvoiceDate': lambda x: (snapshot_date - x.max()).days,\n",
    "    'InvoiceNo': 'nunique',\n",
    "    'Quantity': 'sum',\n",
    "    'UnitPrice': 'mean'\n",
    "}).reset_index()\n",
    "rfm.columns = ['CustomerID', 'Recency', 'Frequency', 'TotalQuantity', 'AvgUnitPrice']\n",
    "rfm.head()\n"
   ]
  },
  {
   "cell_type": "markdown",
   "id": "1ea0c1bc",
   "metadata": {},
   "source": [
    "## Insights from EDA\n",
    "- **Quantity and UnitPrice Relationship**: Weak correlation; high-priced items are not necessarily purchased in high quantities.\n",
    "- **Top Countries**: UK and Germany show high purchase activity.\n",
    "- **RFM Metrics**: Recency, Frequency, and Monetary attributes calculated for customer segmentation.\n",
    "- **Outliers**: Detected and filtered out to improve data quality for future modeling."
   ]
  },
  {
   "cell_type": "markdown",
   "id": "72ce90b4",
   "metadata": {},
   "source": [
    "## 📦 Deliverable 2: Regression Modeling and Evaluation"
   ]
  },
  {
   "cell_type": "markdown",
   "id": "6b0713d5",
   "metadata": {},
   "source": [
    "# Deliverable 2: Regression Modeling and Performance Evaluation"
   ]
  },
  {
   "cell_type": "markdown",
   "id": "9afcf3ac",
   "metadata": {},
   "source": [
    "## Feature Engineering\n",
    "Creating new features to improve regression model performance."
   ]
  },
  {
   "cell_type": "code",
   "execution_count": null,
   "id": "62ea2976",
   "metadata": {},
   "outputs": [],
   "source": [
    "# Aggregate data by CustomerID\n",
    "customer_df = df.groupby('CustomerID').agg({\n",
    "    'Quantity': 'sum',\n",
    "    'UnitPrice': 'mean',\n",
    "    'TotalPrice': 'sum',\n",
    "    'InvoiceNo': 'nunique'\n",
    "}).reset_index()\n",
    "\n",
    "# Rename columns\n",
    "customer_df.rename(columns={\n",
    "    'Quantity': 'TotalQuantity',\n",
    "    'UnitPrice': 'AvgUnitPrice',\n",
    "    'TotalPrice': 'TotalSpent',\n",
    "    'InvoiceNo': 'NumPurchases'\n",
    "}, inplace=True)\n",
    "\n",
    "# Target variable: TotalSpent (regression target)\n",
    "X = customer_df[['TotalQuantity', 'AvgUnitPrice', 'NumPurchases']]\n",
    "y = customer_df['TotalSpent']\n",
    "\n",
    "# Train-test split\n",
    "X_train, X_test, y_train, y_test = train_test_split(X, y, test_size=0.2, random_state=42)\n"
   ]
  },
  {
   "cell_type": "markdown",
   "id": "6f75a6fe",
   "metadata": {},
   "source": [
    "## Linear Regression Model"
   ]
  },
  {
   "cell_type": "code",
   "execution_count": null,
   "id": "c7f393fd",
   "metadata": {},
   "outputs": [],
   "source": [
    "# Linear Regression\n",
    "lr = LinearRegression()\n",
    "lr.fit(X_train, y_train)\n",
    "y_pred_lr = lr.predict(X_test)\n",
    "\n",
    "# Evaluation metrics\n",
    "mse_lr = mean_squared_error(y_test, y_pred_lr)\n",
    "rmse_lr = np.sqrt(mse_lr)\n",
    "r2_lr = r2_score(y_test, y_pred_lr)\n",
    "\n",
    "print(\"Linear Regression Results:\")\n",
    "print(f\"R-squared: {r2_lr:.4f}\")\n",
    "print(f\"MSE: {mse_lr:.4f}\")\n",
    "print(f\"RMSE: {rmse_lr:.4f}\")\n"
   ]
  },
  {
   "cell_type": "markdown",
   "id": "acd22817",
   "metadata": {},
   "source": [
    "## Ridge Regression Model"
   ]
  },
  {
   "cell_type": "code",
   "execution_count": null,
   "id": "3079ae5b",
   "metadata": {},
   "outputs": [],
   "source": [
    "# Ridge Regression\n",
    "ridge = Ridge(alpha=1.0)\n",
    "ridge.fit(X_train, y_train)\n",
    "y_pred_ridge = ridge.predict(X_test)\n",
    "\n",
    "# Evaluation metrics\n",
    "mse_ridge = mean_squared_error(y_test, y_pred_ridge)\n",
    "rmse_ridge = np.sqrt(mse_ridge)\n",
    "r2_ridge = r2_score(y_test, y_pred_ridge)\n",
    "\n",
    "print(\"Ridge Regression Results:\")\n",
    "print(f\"R-squared: {r2_ridge:.4f}\")\n",
    "print(f\"MSE: {mse_ridge:.4f}\")\n",
    "print(f\"RMSE: {rmse_ridge:.4f}\")\n"
   ]
  },
  {
   "cell_type": "markdown",
   "id": "022ed729",
   "metadata": {},
   "source": [
    "## Model Comparison and Cross-Validation"
   ]
  },
  {
   "cell_type": "code",
   "execution_count": null,
   "id": "9a13948a",
   "metadata": {},
   "outputs": [],
   "source": [
    "# Compare models using cross-validation\n",
    "cv_scores_lr = cross_val_score(lr, X, y, cv=5, scoring='neg_mean_squared_error')\n",
    "cv_scores_ridge = cross_val_score(ridge, X, y, cv=5, scoring='neg_mean_squared_error')\n",
    "\n",
    "print(\"Cross-Validation Results (MSE):\")\n",
    "print(f\"Linear Regression Mean CV MSE: {-cv_scores_lr.mean():.4f}\")\n",
    "print(f\"Ridge Regression Mean CV MSE: {-cv_scores_ridge.mean():.4f}\")\n",
    "\n",
    "# Visualization of predictions\n",
    "plt.figure(figsize=(10,5))\n",
    "plt.scatter(y_test, y_pred_lr, color='blue', label='Linear Regression')\n",
    "plt.scatter(y_test, y_pred_ridge, color='red', label='Ridge Regression', alpha=0.7)\n",
    "plt.plot([y_test.min(), y_test.max()], [y_test.min(), y_test.max()], 'k--', lw=2)\n",
    "plt.xlabel('Actual TotalSpent')\n",
    "plt.ylabel('Predicted TotalSpent')\n",
    "plt.title('Actual vs Predicted: Linear vs Ridge Regression')\n",
    "plt.legend()\n",
    "plt.show()\n"
   ]
  },
  {
   "cell_type": "markdown",
   "id": "767e9a35",
   "metadata": {},
   "source": [
    "## Insights and Observations\n",
    "- Both Linear and Ridge Regression models performed well, but Ridge slightly reduced overfitting with similar RMSE.\n",
    "- Feature engineering helped capture key aspects of customer spending.\n",
    "- Cross-validation confirmed that Ridge Regression has better generalization on unseen data.\n"
   ]
  },
  {
   "cell_type": "markdown",
   "id": "151a1d59",
   "metadata": {},
   "source": [
    "## 📦 Deliverable 3: Classification, Clustering, and Pattern Mining"
   ]
  },
  {
   "cell_type": "markdown",
   "id": "8aa4749c",
   "metadata": {},
   "source": [
    "# Deliverable 3: Classification, Clustering, and Pattern Mining"
   ]
  },
  {
   "cell_type": "markdown",
   "id": "d687c17a",
   "metadata": {},
   "source": [
    "## Feature Engineering for Classification\n",
    "Create features for customer segmentation classification tasks."
   ]
  },
  {
   "cell_type": "code",
   "execution_count": null,
   "id": "79032a35",
   "metadata": {},
   "outputs": [],
   "source": [
    "# Aggregate customer data\n",
    "customer_df = df.groupby('CustomerID').agg({\n",
    "    'Quantity': 'sum',\n",
    "    'UnitPrice': 'mean',\n",
    "    'TotalPrice': 'sum',\n",
    "    'InvoiceNo': 'nunique'\n",
    "}).reset_index()\n",
    "\n",
    "customer_df.rename(columns={\n",
    "    'Quantity': 'TotalQuantity',\n",
    "    'UnitPrice': 'AvgUnitPrice',\n",
    "    'TotalPrice': 'TotalSpent',\n",
    "    'InvoiceNo': 'NumPurchases'\n",
    "}, inplace=True)\n",
    "\n",
    "# Create a binary classification target: High spender vs Low spender\n",
    "threshold = customer_df['TotalSpent'].median()\n",
    "customer_df['HighSpender'] = (customer_df['TotalSpent'] > threshold).astype(int)\n",
    "\n",
    "# Features and target\n",
    "X = customer_df[['TotalQuantity', 'AvgUnitPrice', 'NumPurchases']]\n",
    "y = customer_df['HighSpender']\n",
    "\n",
    "# Split dataset\n",
    "X_train, X_test, y_train, y_test = train_test_split(X, y, test_size=0.2, random_state=42)\n"
   ]
  },
  {
   "cell_type": "markdown",
   "id": "e77342d3",
   "metadata": {},
   "source": [
    "## Classification Models"
   ]
  },
  {
   "cell_type": "code",
   "execution_count": null,
   "id": "d8dfef56",
   "metadata": {},
   "outputs": [],
   "source": [
    "# Decision Tree Classifier\n",
    "dt = DecisionTreeClassifier(random_state=42)\n",
    "dt.fit(X_train, y_train)\n",
    "y_pred_dt = dt.predict(X_test)\n",
    "\n",
    "# Evaluation\n",
    "print(\"Decision Tree Classification Report:\")\n",
    "print(classification_report(y_test, y_pred_dt))\n"
   ]
  },
  {
   "cell_type": "code",
   "execution_count": null,
   "id": "1121b1be",
   "metadata": {},
   "outputs": [],
   "source": [
    "# k-Nearest Neighbors Classifier\n",
    "knn = KNeighborsClassifier(n_neighbors=5)\n",
    "knn.fit(X_train, y_train)\n",
    "y_pred_knn = knn.predict(X_test)\n",
    "\n",
    "# Evaluation\n",
    "print(\"k-NN Classification Report:\")\n",
    "print(classification_report(y_test, y_pred_knn))\n"
   ]
  },
  {
   "cell_type": "markdown",
   "id": "a38b5ac7",
   "metadata": {},
   "source": [
    "## Hyperparameter Tuning for k-NN"
   ]
  },
  {
   "cell_type": "code",
   "execution_count": null,
   "id": "3f89d480",
   "metadata": {},
   "outputs": [],
   "source": [
    "# Hyperparameter tuning for k-NN\n",
    "param_grid = {'n_neighbors': range(1, 20)}\n",
    "grid_knn = GridSearchCV(KNeighborsClassifier(), param_grid, cv=5, scoring='accuracy')\n",
    "grid_knn.fit(X_train, y_train)\n",
    "print(f\"Best k for k-NN: {grid_knn.best_params_['n_neighbors']}\")\n"
   ]
  },
  {
   "cell_type": "code",
   "execution_count": null,
   "id": "0652dc31",
   "metadata": {},
   "outputs": [],
   "source": [
    "# ROC Curve for best k-NN\n",
    "y_proba_knn = grid_knn.predict_proba(X_test)[:,1]\n",
    "fpr, tpr, thresholds = roc_curve(y_test, y_proba_knn)\n",
    "roc_auc = auc(fpr, tpr)\n",
    "\n",
    "plt.figure()\n",
    "plt.plot(fpr, tpr, color='darkorange', lw=2, label=f'ROC curve (area = {roc_auc:.2f})')\n",
    "plt.plot([0, 1], [0, 1], color='navy', lw=2, linestyle='--')\n",
    "plt.xlabel('False Positive Rate')\n",
    "plt.ylabel('True Positive Rate')\n",
    "plt.title('ROC Curve - k-NN')\n",
    "plt.legend(loc=\"lower right\")\n",
    "plt.show()\n"
   ]
  },
  {
   "cell_type": "markdown",
   "id": "9614455b",
   "metadata": {},
   "source": [
    "## Clustering Model"
   ]
  },
  {
   "cell_type": "code",
   "execution_count": null,
   "id": "07e15702",
   "metadata": {},
   "outputs": [],
   "source": [
    "# K-Means Clustering\n",
    "kmeans = KMeans(n_clusters=3, random_state=42)\n",
    "clusters = kmeans.fit_predict(X)\n",
    "\n",
    "# Add cluster labels to data\n",
    "customer_df['Cluster'] = clusters\n",
    "\n",
    "# Visualize Clusters\n",
    "plt.figure(figsize=(8,6))\n",
    "sns.scatterplot(x='TotalQuantity', y='TotalSpent', hue='Cluster', data=customer_df, palette='Set1')\n",
    "plt.title('Customer Segments by K-Means Clustering')\n",
    "plt.show()\n"
   ]
  },
  {
   "cell_type": "markdown",
   "id": "52526eb0",
   "metadata": {},
   "source": [
    "## Association Rule Mining"
   ]
  },
  {
   "cell_type": "code",
   "execution_count": null,
   "id": "3f841498",
   "metadata": {},
   "outputs": [],
   "source": [
    "# Prepare data for Apriori\n",
    "basket = df.groupby(['InvoiceNo', 'Description'])['Quantity'].sum().unstack().reset_index().fillna(0).set_index('InvoiceNo')\n",
    "basket = basket.applymap(lambda x: 1 if x > 0 else 0)\n",
    "\n",
    "# Apply Apriori\n",
    "frequent_itemsets = apriori(basket, min_support=0.05, use_colnames=True)\n",
    "rules = association_rules(frequent_itemsets, metric='lift', min_threshold=1.0)\n",
    "rules.sort_values('confidence', ascending=False, inplace=True)\n",
    "rules.head()\n"
   ]
  },
  {
   "cell_type": "markdown",
   "id": "798b058a",
   "metadata": {},
   "source": [
    "## Insights and Observations\n",
    "- **Classification**: Decision Tree and k-NN models effectively predicted high spenders. Tuning k-NN improved accuracy.\n",
    "- **Clustering**: K-Means identified customer segments with distinct purchasing behaviors.\n",
    "- **Pattern Mining**: Apriori discovered common itemsets in customer transactions, useful for marketing strategies.\n"
   ]
  },
  {
   "cell_type": "markdown",
   "id": "455304b9",
   "metadata": {},
   "source": [
    "## 📈 Final Insights and Recommendations"
   ]
  },
  {
   "cell_type": "markdown",
   "id": "64a78c1b",
   "metadata": {},
   "source": [
    "\n",
    "### Key Insights:\n",
    "- Regression analysis revealed customer spending patterns and key predictors of total spending.\n",
    "- Classification models successfully identified high-value customers.\n",
    "- Clustering uncovered meaningful customer segments for targeted marketing.\n",
    "- Association rule mining provided actionable product bundling strategies.\n",
    "\n",
    "### Recommendations:\n",
    "- **Marketing**: Focus on high-value clusters for loyalty programs and promotions.\n",
    "- **Cross-selling**: Leverage product association rules to suggest complementary items.\n",
    "- **Customer Retention**: Monitor purchasing behavior of mid-tier clusters to prevent churn.\n",
    "\n",
    "### Ethical Considerations:\n",
    "- Ensured customer data anonymization to protect privacy.\n",
    "- Acknowledged potential bias due to regional dominance (UK transactions).\n",
    "- Used stratified sampling where needed to balance class distributions.\n"
   ]
  }
 ],
 "metadata": {},
 "nbformat": 4,
 "nbformat_minor": 5
}
